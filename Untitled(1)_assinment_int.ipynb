{
 "cells": [
  {
   "cell_type": "code",
   "execution_count": 1,
   "id": "1131d586",
   "metadata": {},
   "outputs": [],
   "source": [
    "import pandas as pd\n",
    "import numpy as np"
   ]
  },
  {
   "cell_type": "code",
   "execution_count": 2,
   "id": "c1d71475",
   "metadata": {},
   "outputs": [],
   "source": [
    "data_1={\"id\": [\"2\"], \"first_name\": [\"JITENDER\"], \"middle_name\": [\" \"], \"last_name\": [\"DAGAR\"], \"email\": [\"athulk@webandcrafts.in\"], \"country_code\": [\"+91\"], \"phone\": [\"9072482174\"], \"sex\": [\"male\"], \"country_id\": [\"1\"], \"language_id\": [\"1\"], \"dob\": [\"1999-10-02\"], \"height\": [\"178\"], \"weight\": [\"142\"], \"address\": [\"address\"], \"city\": [\"Thrissure\"], \"state\": [\"kerala\"], \"pincode\": [\"679865\"], \"blood_group\": [\"A+ve\"], \"ethnicity\": [\"\"], \"marital_status\": [\"\"], \"occupation\": [\"\"], \"longitude\": [\"\"], \"latitude\": [\"\"]}"
   ]
  },
  {
   "cell_type": "code",
   "execution_count": 3,
   "id": "489a3f66",
   "metadata": {
    "scrolled": true
   },
   "outputs": [
    {
     "data": {
      "text/html": [
       "<div>\n",
       "<style scoped>\n",
       "    .dataframe tbody tr th:only-of-type {\n",
       "        vertical-align: middle;\n",
       "    }\n",
       "\n",
       "    .dataframe tbody tr th {\n",
       "        vertical-align: top;\n",
       "    }\n",
       "\n",
       "    .dataframe thead th {\n",
       "        text-align: right;\n",
       "    }\n",
       "</style>\n",
       "<table border=\"1\" class=\"dataframe\">\n",
       "  <thead>\n",
       "    <tr style=\"text-align: right;\">\n",
       "      <th></th>\n",
       "      <th>id</th>\n",
       "      <th>first_name</th>\n",
       "      <th>middle_name</th>\n",
       "      <th>last_name</th>\n",
       "      <th>email</th>\n",
       "      <th>country_code</th>\n",
       "      <th>phone</th>\n",
       "      <th>sex</th>\n",
       "      <th>country_id</th>\n",
       "      <th>language_id</th>\n",
       "      <th>...</th>\n",
       "      <th>address</th>\n",
       "      <th>city</th>\n",
       "      <th>state</th>\n",
       "      <th>pincode</th>\n",
       "      <th>blood_group</th>\n",
       "      <th>ethnicity</th>\n",
       "      <th>marital_status</th>\n",
       "      <th>occupation</th>\n",
       "      <th>longitude</th>\n",
       "      <th>latitude</th>\n",
       "    </tr>\n",
       "  </thead>\n",
       "  <tbody>\n",
       "    <tr>\n",
       "      <th>0</th>\n",
       "      <td>2</td>\n",
       "      <td>JITENDER</td>\n",
       "      <td></td>\n",
       "      <td>DAGAR</td>\n",
       "      <td>athulk@webandcrafts.in</td>\n",
       "      <td>+91</td>\n",
       "      <td>9072482174</td>\n",
       "      <td>male</td>\n",
       "      <td>1</td>\n",
       "      <td>1</td>\n",
       "      <td>...</td>\n",
       "      <td>address</td>\n",
       "      <td>Thrissure</td>\n",
       "      <td>kerala</td>\n",
       "      <td>679865</td>\n",
       "      <td>A+ve</td>\n",
       "      <td></td>\n",
       "      <td></td>\n",
       "      <td></td>\n",
       "      <td></td>\n",
       "      <td></td>\n",
       "    </tr>\n",
       "  </tbody>\n",
       "</table>\n",
       "<p>1 rows × 23 columns</p>\n",
       "</div>"
      ],
      "text/plain": [
       "  id first_name middle_name last_name                   email country_code  \\\n",
       "0  2   JITENDER                 DAGAR  athulk@webandcrafts.in          +91   \n",
       "\n",
       "        phone   sex country_id language_id  ...  address       city   state  \\\n",
       "0  9072482174  male          1           1  ...  address  Thrissure  kerala   \n",
       "\n",
       "  pincode blood_group ethnicity marital_status occupation longitude latitude  \n",
       "0  679865        A+ve                                                         \n",
       "\n",
       "[1 rows x 23 columns]"
      ]
     },
     "execution_count": 3,
     "metadata": {},
     "output_type": "execute_result"
    }
   ],
   "source": [
    "df=pd.DataFrame(data_1)\n",
    "df"
   ]
  },
  {
   "cell_type": "code",
   "execution_count": null,
   "id": "4fec0db4",
   "metadata": {},
   "outputs": [],
   "source": []
  }
 ],
 "metadata": {
  "kernelspec": {
   "display_name": "Python 3 (ipykernel)",
   "language": "python",
   "name": "python3"
  },
  "language_info": {
   "codemirror_mode": {
    "name": "ipython",
    "version": 3
   },
   "file_extension": ".py",
   "mimetype": "text/x-python",
   "name": "python",
   "nbconvert_exporter": "python",
   "pygments_lexer": "ipython3",
   "version": "3.9.12"
  }
 },
 "nbformat": 4,
 "nbformat_minor": 5
}
